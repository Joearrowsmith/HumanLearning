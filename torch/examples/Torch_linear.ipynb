{
  "nbformat": 4,
  "nbformat_minor": 0,
  "metadata": {
    "colab": {
      "name": "Torch_linear.ipynb",
      "provenance": [],
      "collapsed_sections": []
    },
    "kernelspec": {
      "name": "python3",
      "display_name": "Python 3"
    }
  },
  "cells": [
    {
      "cell_type": "code",
      "metadata": {
        "id": "fzb3nbcdoHcF",
        "colab_type": "code",
        "colab": {
          "base_uri": "https://localhost:8080/",
          "height": 158
        },
        "outputId": "f79601ab-9782-4805-ae56-e5bc73c76b47"
      },
      "source": [
        "!pip install http://download.pytorch.org/whl/cu92/torch-1.6.0-cp36-cp36m-linux_x86_64.whl\n",
        "!pip install torchvision"
      ],
      "execution_count": 2,
      "outputs": [
        {
          "output_type": "stream",
          "text": [
            "Requirement already satisfied: torch==1.6.0 from http://download.pytorch.org/whl/cu92/torch-1.6.0-cp36-cp36m-linux_x86_64.whl in /usr/local/lib/python3.6/dist-packages (1.6.0+cu101)\n",
            "Requirement already satisfied: future in /usr/local/lib/python3.6/dist-packages (from torch==1.6.0) (0.16.0)\n",
            "Requirement already satisfied: numpy in /usr/local/lib/python3.6/dist-packages (from torch==1.6.0) (1.18.5)\n",
            "Requirement already satisfied: torchvision in /usr/local/lib/python3.6/dist-packages (0.7.0+cu101)\n",
            "Requirement already satisfied: torch==1.6.0 in /usr/local/lib/python3.6/dist-packages (from torchvision) (1.6.0+cu101)\n",
            "Requirement already satisfied: pillow>=4.1.1 in /usr/local/lib/python3.6/dist-packages (from torchvision) (7.0.0)\n",
            "Requirement already satisfied: numpy in /usr/local/lib/python3.6/dist-packages (from torchvision) (1.18.5)\n",
            "Requirement already satisfied: future in /usr/local/lib/python3.6/dist-packages (from torch==1.6.0->torchvision) (0.16.0)\n"
          ],
          "name": "stdout"
        }
      ]
    },
    {
      "cell_type": "code",
      "metadata": {
        "id": "PkfoYJVOoUel",
        "colab_type": "code",
        "colab": {}
      },
      "source": [
        "import numpy as np\n",
        "import torch as th"
      ],
      "execution_count": 83,
      "outputs": []
    },
    {
      "cell_type": "code",
      "metadata": {
        "id": "ZUpK35eboXmd",
        "colab_type": "code",
        "colab": {}
      },
      "source": [
        "x = np.linspace(0, 4, 5)\n",
        "y = 3. * x + - 1.5"
      ],
      "execution_count": 84,
      "outputs": []
    },
    {
      "cell_type": "code",
      "metadata": {
        "id": "DceKGt8ABye1",
        "colab_type": "code",
        "colab": {
          "base_uri": "https://localhost:8080/",
          "height": 282
        },
        "outputId": "c2a0fbc9-016a-45d0-c41e-afb11b07289f"
      },
      "source": [
        "import matplotlib.pyplot as plt\n",
        "plt.scatter(x, y)"
      ],
      "execution_count": 85,
      "outputs": [
        {
          "output_type": "execute_result",
          "data": {
            "text/plain": [
              "<matplotlib.collections.PathCollection at 0x7f3031a68438>"
            ]
          },
          "metadata": {
            "tags": []
          },
          "execution_count": 85
        },
        {
          "output_type": "display_data",
          "data": {
            "image/png": "[encoded data removed]",
            "text/plain": [
              "<Figure size 432x288 with 1 Axes>"
            ]
          },
          "metadata": {
            "tags": [],
            "needs_background": "light"
          }
        }
      ]
    },
    {
      "cell_type": "code",
      "metadata": {
        "id": "AFiygO0nsg6K",
        "colab_type": "code",
        "colab": {}
      },
      "source": [
        "x = th.tensor(x, requires_grad=True)\n",
        "y = th.tensor(y, requires_grad=True)"
      ],
      "execution_count": 86,
      "outputs": []
    },
    {
      "cell_type": "code",
      "metadata": {
        "id": "Y20zSeGl0HDD",
        "colab_type": "code",
        "colab": {}
      },
      "source": [
        "class LinearRegressionModel(th.nn.Module): \n",
        "  \n",
        "    def __init__(self): \n",
        "        super(LinearRegressionModel, self).__init__() \n",
        "        self.m = th.nn.parameter.Parameter(th.tensor(np.ones((1,))), requires_grad=True)\n",
        "        self.c = th.nn.parameter.Parameter(th.tensor(np.ones((1,)), requires_grad=True), requires_grad=True)\n",
        "  \n",
        "    def forward(self, x): \n",
        "        y_pred = x * self.m + self.c\n",
        "        return y_pred "
      ],
      "execution_count": 87,
      "outputs": []
    },
    {
      "cell_type": "code",
      "metadata": {
        "id": "2j38DTY3-vMw",
        "colab_type": "code",
        "colab": {}
      },
      "source": [
        "l = LinearRegressionModel()"
      ],
      "execution_count": 88,
      "outputs": []
    },
    {
      "cell_type": "code",
      "metadata": {
        "id": "3MP5gQJyCZmz",
        "colab_type": "code",
        "colab": {
          "base_uri": "https://localhost:8080/",
          "height": 282
        },
        "outputId": "b6371908-9984-4b9e-b24e-423190d6049f"
      },
      "source": [
        "y_pred = l(x)\n",
        "plt.scatter(x.detach().numpy(), y.detach().numpy())\n",
        "plt.plot(x.detach().numpy(), y_pred.detach().numpy())"
      ],
      "execution_count": 89,
      "outputs": [
        {
          "output_type": "execute_result",
          "data": {
            "text/plain": [
              "[<matplotlib.lines.Line2D at 0x7f3031aab588>]"
            ]
          },
          "metadata": {
            "tags": []
          },
          "execution_count": 89
        },
        {
          "output_type": "display_data",
          "data": {
            "image/png": "[encoded data removed]",
            "text/plain": [
              "<Figure size 432x288 with 1 Axes>"
            ]
          },
          "metadata": {
            "tags": [],
            "needs_background": "light"
          }
        }
      ]
    },
    {
      "cell_type": "code",
      "metadata": {
        "id": "FHrqJu4k_dkl",
        "colab_type": "code",
        "colab": {
          "base_uri": "https://localhost:8080/",
          "height": 52
        },
        "outputId": "4722e42a-1bd4-4fcc-8288-0f7c43b3f687"
      },
      "source": [
        "for name, param in l.named_parameters():\n",
        "    if param.requires_grad:\n",
        "        print(name, param.data)"
      ],
      "execution_count": 90,
      "outputs": [
        {
          "output_type": "stream",
          "text": [
            "m tensor([1.], dtype=torch.float64)\n",
            "c tensor([1.], dtype=torch.float64)\n"
          ],
          "name": "stdout"
        }
      ]
    },
    {
      "cell_type": "code",
      "metadata": {
        "id": "bl86_bN6AK0b",
        "colab_type": "code",
        "colab": {
          "base_uri": "https://localhost:8080/",
          "height": 1000
        },
        "outputId": "69e0cbfe-5b9f-40bd-861c-9d4821b80aec"
      },
      "source": [
        "lr = 0.01\n",
        "optimizer = th.optim.SGD(l.parameters(), lr=lr) \n",
        "for i in range(100):\n",
        "  y_pred = l(x)\n",
        "  loss = th.square(y - y_pred).mean()\n",
        "  optimizer.zero_grad()\n",
        "  loss.backward()\n",
        "  optimizer.step()\n",
        "  print(loss, lr)"
      ],
      "execution_count": 99,
      "outputs": [
        {
          "output_type": "stream",
          "text": [
            "tensor(1.1379, dtype=torch.float64, grad_fn=<MeanBackward0>) 0.01\n",
            "tensor(1.1244, dtype=torch.float64, grad_fn=<MeanBackward0>) 0.01\n",
            "tensor(1.1110, dtype=torch.float64, grad_fn=<MeanBackward0>) 0.01\n",
            "tensor(1.0978, dtype=torch.float64, grad_fn=<MeanBackward0>) 0.01\n",
            "tensor(1.0847, dtype=torch.float64, grad_fn=<MeanBackward0>) 0.01\n",
            "tensor(1.0718, dtype=torch.float64, grad_fn=<MeanBackward0>) 0.01\n",
            "tensor(1.0591, dtype=torch.float64, grad_fn=<MeanBackward0>) 0.01\n",
            "tensor(1.0464, dtype=torch.float64, grad_fn=<MeanBackward0>) 0.01\n",
            "tensor(1.0340, dtype=torch.float64, grad_fn=<MeanBackward0>) 0.01\n",
            "tensor(1.0217, dtype=torch.float64, grad_fn=<MeanBackward0>) 0.01\n",
            "tensor(1.0095, dtype=torch.float64, grad_fn=<MeanBackward0>) 0.01\n",
            "tensor(0.9975, dtype=torch.float64, grad_fn=<MeanBackward0>) 0.01\n",
            "tensor(0.9856, dtype=torch.float64, grad_fn=<MeanBackward0>) 0.01\n",
            "tensor(0.9739, dtype=torch.float64, grad_fn=<MeanBackward0>) 0.01\n",
            "tensor(0.9623, dtype=torch.float64, grad_fn=<MeanBackward0>) 0.01\n",
            "tensor(0.9509, dtype=torch.float64, grad_fn=<MeanBackward0>) 0.01\n",
            "tensor(0.9395, dtype=torch.float64, grad_fn=<MeanBackward0>) 0.01\n",
            "tensor(0.9284, dtype=torch.float64, grad_fn=<MeanBackward0>) 0.01\n",
            "tensor(0.9173, dtype=torch.float64, grad_fn=<MeanBackward0>) 0.01\n",
            "tensor(0.9064, dtype=torch.float64, grad_fn=<MeanBackward0>) 0.01\n",
            "tensor(0.8956, dtype=torch.float64, grad_fn=<MeanBackward0>) 0.01\n",
            "tensor(0.8849, dtype=torch.float64, grad_fn=<MeanBackward0>) 0.01\n",
            "tensor(0.8744, dtype=torch.float64, grad_fn=<MeanBackward0>) 0.01\n",
            "tensor(0.8640, dtype=torch.float64, grad_fn=<MeanBackward0>) 0.01\n",
            "tensor(0.8537, dtype=torch.float64, grad_fn=<MeanBackward0>) 0.01\n",
            "tensor(0.8436, dtype=torch.float64, grad_fn=<MeanBackward0>) 0.01\n",
            "tensor(0.8335, dtype=torch.float64, grad_fn=<MeanBackward0>) 0.01\n",
            "tensor(0.8236, dtype=torch.float64, grad_fn=<MeanBackward0>) 0.01\n",
            "tensor(0.8138, dtype=torch.float64, grad_fn=<MeanBackward0>) 0.01\n",
            "tensor(0.8041, dtype=torch.float64, grad_fn=<MeanBackward0>) 0.01\n",
            "tensor(0.7945, dtype=torch.float64, grad_fn=<MeanBackward0>) 0.01\n",
            "tensor(0.7851, dtype=torch.float64, grad_fn=<MeanBackward0>) 0.01\n",
            "tensor(0.7757, dtype=torch.float64, grad_fn=<MeanBackward0>) 0.01\n",
            "tensor(0.7665, dtype=torch.float64, grad_fn=<MeanBackward0>) 0.01\n",
            "tensor(0.7574, dtype=torch.float64, grad_fn=<MeanBackward0>) 0.01\n",
            "tensor(0.7484, dtype=torch.float64, grad_fn=<MeanBackward0>) 0.01\n",
            "tensor(0.7395, dtype=torch.float64, grad_fn=<MeanBackward0>) 0.01\n",
            "tensor(0.7307, dtype=torch.float64, grad_fn=<MeanBackward0>) 0.01\n",
            "tensor(0.7220, dtype=torch.float64, grad_fn=<MeanBackward0>) 0.01\n",
            "tensor(0.7134, dtype=torch.float64, grad_fn=<MeanBackward0>) 0.01\n",
            "tensor(0.7049, dtype=torch.float64, grad_fn=<MeanBackward0>) 0.01\n",
            "tensor(0.6965, dtype=torch.float64, grad_fn=<MeanBackward0>) 0.01\n",
            "tensor(0.6882, dtype=torch.float64, grad_fn=<MeanBackward0>) 0.01\n",
            "tensor(0.6800, dtype=torch.float64, grad_fn=<MeanBackward0>) 0.01\n",
            "tensor(0.6719, dtype=torch.float64, grad_fn=<MeanBackward0>) 0.01\n",
            "tensor(0.6639, dtype=torch.float64, grad_fn=<MeanBackward0>) 0.01\n",
            "tensor(0.6560, dtype=torch.float64, grad_fn=<MeanBackward0>) 0.01\n",
            "tensor(0.6482, dtype=torch.float64, grad_fn=<MeanBackward0>) 0.01\n",
            "tensor(0.6405, dtype=torch.float64, grad_fn=<MeanBackward0>) 0.01\n",
            "tensor(0.6329, dtype=torch.float64, grad_fn=<MeanBackward0>) 0.01\n",
            "tensor(0.6253, dtype=torch.float64, grad_fn=<MeanBackward0>) 0.01\n",
            "tensor(0.6179, dtype=torch.float64, grad_fn=<MeanBackward0>) 0.01\n",
            "tensor(0.6105, dtype=torch.float64, grad_fn=<MeanBackward0>) 0.01\n",
            "tensor(0.6033, dtype=torch.float64, grad_fn=<MeanBackward0>) 0.01\n",
            "tensor(0.5961, dtype=torch.float64, grad_fn=<MeanBackward0>) 0.01\n",
            "tensor(0.5890, dtype=torch.float64, grad_fn=<MeanBackward0>) 0.01\n",
            "tensor(0.5820, dtype=torch.float64, grad_fn=<MeanBackward0>) 0.01\n",
            "tensor(0.5751, dtype=torch.float64, grad_fn=<MeanBackward0>) 0.01\n",
            "tensor(0.5682, dtype=torch.float64, grad_fn=<MeanBackward0>) 0.01\n",
            "tensor(0.5615, dtype=torch.float64, grad_fn=<MeanBackward0>) 0.01\n",
            "tensor(0.5548, dtype=torch.float64, grad_fn=<MeanBackward0>) 0.01\n",
            "tensor(0.5482, dtype=torch.float64, grad_fn=<MeanBackward0>) 0.01\n",
            "tensor(0.5417, dtype=torch.float64, grad_fn=<MeanBackward0>) 0.01\n",
            "tensor(0.5352, dtype=torch.float64, grad_fn=<MeanBackward0>) 0.01\n",
            "tensor(0.5288, dtype=torch.float64, grad_fn=<MeanBackward0>) 0.01\n",
            "tensor(0.5225, dtype=torch.float64, grad_fn=<MeanBackward0>) 0.01\n",
            "tensor(0.5163, dtype=torch.float64, grad_fn=<MeanBackward0>) 0.01\n",
            "tensor(0.5102, dtype=torch.float64, grad_fn=<MeanBackward0>) 0.01\n",
            "tensor(0.5041, dtype=torch.float64, grad_fn=<MeanBackward0>) 0.01\n",
            "tensor(0.4981, dtype=torch.float64, grad_fn=<MeanBackward0>) 0.01\n",
            "tensor(0.4922, dtype=torch.float64, grad_fn=<MeanBackward0>) 0.01\n",
            "tensor(0.4863, dtype=torch.float64, grad_fn=<MeanBackward0>) 0.01\n",
            "tensor(0.4805, dtype=torch.float64, grad_fn=<MeanBackward0>) 0.01\n",
            "tensor(0.4748, dtype=torch.float64, grad_fn=<MeanBackward0>) 0.01\n",
            "tensor(0.4692, dtype=torch.float64, grad_fn=<MeanBackward0>) 0.01\n",
            "tensor(0.4636, dtype=torch.float64, grad_fn=<MeanBackward0>) 0.01\n",
            "tensor(0.4581, dtype=torch.float64, grad_fn=<MeanBackward0>) 0.01\n",
            "tensor(0.4526, dtype=torch.float64, grad_fn=<MeanBackward0>) 0.01\n",
            "tensor(0.4472, dtype=torch.float64, grad_fn=<MeanBackward0>) 0.01\n",
            "tensor(0.4419, dtype=torch.float64, grad_fn=<MeanBackward0>) 0.01\n",
            "tensor(0.4366, dtype=torch.float64, grad_fn=<MeanBackward0>) 0.01\n",
            "tensor(0.4314, dtype=torch.float64, grad_fn=<MeanBackward0>) 0.01\n",
            "tensor(0.4263, dtype=torch.float64, grad_fn=<MeanBackward0>) 0.01\n",
            "tensor(0.4212, dtype=torch.float64, grad_fn=<MeanBackward0>) 0.01\n",
            "tensor(0.4162, dtype=torch.float64, grad_fn=<MeanBackward0>) 0.01\n",
            "tensor(0.4113, dtype=torch.float64, grad_fn=<MeanBackward0>) 0.01\n",
            "tensor(0.4064, dtype=torch.float64, grad_fn=<MeanBackward0>) 0.01\n",
            "tensor(0.4015, dtype=torch.float64, grad_fn=<MeanBackward0>) 0.01\n",
            "tensor(0.3968, dtype=torch.float64, grad_fn=<MeanBackward0>) 0.01\n",
            "tensor(0.3920, dtype=torch.float64, grad_fn=<MeanBackward0>) 0.01\n",
            "tensor(0.3874, dtype=torch.float64, grad_fn=<MeanBackward0>) 0.01\n",
            "tensor(0.3828, dtype=torch.float64, grad_fn=<MeanBackward0>) 0.01\n",
            "tensor(0.3782, dtype=torch.float64, grad_fn=<MeanBackward0>) 0.01\n",
            "tensor(0.3737, dtype=torch.float64, grad_fn=<MeanBackward0>) 0.01\n",
            "tensor(0.3693, dtype=torch.float64, grad_fn=<MeanBackward0>) 0.01\n",
            "tensor(0.3649, dtype=torch.float64, grad_fn=<MeanBackward0>) 0.01\n",
            "tensor(0.3605, dtype=torch.float64, grad_fn=<MeanBackward0>) 0.01\n",
            "tensor(0.3562, dtype=torch.float64, grad_fn=<MeanBackward0>) 0.01\n",
            "tensor(0.3520, dtype=torch.float64, grad_fn=<MeanBackward0>) 0.01\n",
            "tensor(0.3478, dtype=torch.float64, grad_fn=<MeanBackward0>) 0.01\n"
          ],
          "name": "stdout"
        }
      ]
    },
    {
      "cell_type": "code",
      "metadata": {
        "id": "_0fUr1grAmt-",
        "colab_type": "code",
        "colab": {
          "base_uri": "https://localhost:8080/",
          "height": 52
        },
        "outputId": "5107de4b-382b-4847-d3fd-673216056c52"
      },
      "source": [
        "for name, param in l.named_parameters():\n",
        "    if param.requires_grad:\n",
        "        print(name, param.data)"
      ],
      "execution_count": 100,
      "outputs": [
        {
          "output_type": "stream",
          "text": [
            "m tensor([2.6448], dtype=torch.float64)\n",
            "c tensor([-0.4874], dtype=torch.float64)\n"
          ],
          "name": "stdout"
        }
      ]
    },
    {
      "cell_type": "code",
      "metadata": {
        "id": "6j47zsCJAUFr",
        "colab_type": "code",
        "colab": {
          "base_uri": "https://localhost:8080/",
          "height": 34
        },
        "outputId": "b6d5a2cd-41c3-4d65-99c8-2a5d88802479"
      },
      "source": [
        "th.square(y - y_pred).mean()"
      ],
      "execution_count": 101,
      "outputs": [
        {
          "output_type": "execute_result",
          "data": {
            "text/plain": [
              "tensor(0.3478, dtype=torch.float64, grad_fn=<MeanBackward0>)"
            ]
          },
          "metadata": {
            "tags": []
          },
          "execution_count": 101
        }
      ]
    },
    {
      "cell_type": "code",
      "metadata": {
        "id": "mcHl_5skAYGd",
        "colab_type": "code",
        "colab": {
          "base_uri": "https://localhost:8080/",
          "height": 282
        },
        "outputId": "5b8b173e-fcfd-4e37-a2d4-9978f444f983"
      },
      "source": [
        "plt.scatter(x.detach().numpy(), y.detach().numpy())\n",
        "plt.plot(x.detach().numpy(), y_pred.detach().numpy())"
      ],
      "execution_count": 102,
      "outputs": [
        {
          "output_type": "execute_result",
          "data": {
            "text/plain": [
              "[<matplotlib.lines.Line2D at 0x7f3031bc3630>]"
            ]
          },
          "metadata": {
            "tags": []
          },
          "execution_count": 102
        },
        {
          "output_type": "display_data",
          "data": {
            "image/png": "[encoded data removed]",
            "text/plain": [
              "<Figure size 432x288 with 1 Axes>"
            ]
          },
          "metadata": {
            "tags": [],
            "needs_background": "light"
          }
        }
      ]
    },
    {
      "cell_type": "code",
      "metadata": {
        "id": "Vp2uH9P1CLiH",
        "colab_type": "code",
        "colab": {}
      },
      "source": [
        ""
      ],
      "execution_count": null,
      "outputs": []
    }
  ]
}